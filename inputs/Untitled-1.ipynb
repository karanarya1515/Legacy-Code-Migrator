{
 "cells": [
  {
   "cell_type": "code",
   "execution_count": 25,
   "id": "397d1185",
   "metadata": {},
   "outputs": [
    {
     "name": "stdout",
     "output_type": "stream",
     "text": [
      "Connection successful!\n",
      "(1, 'Toy Story', 'John Lasseter', 1995, 81)\n",
      "(2, \"A Bug's Life\", 'John Lasseter', 1998, 95)\n",
      "(3, 'Toy Story 2', 'John Lasseter', 1999, 93)\n"
     ]
    }
   ],
   "source": [
    "import psycopg2\n",
    "\n",
    "try:\n",
    "    # Establish connection\n",
    "    conn = psycopg2.connect(\n",
    "        dbname=\"class_database\",\n",
    "        user=\"postgres\",\n",
    "        password=\"deepathecat\",\n",
    "        host=\"localhost\",\n",
    "        port=5432\n",
    "    )\n",
    "    print(\"Connection successful!\")\n",
    "\n",
    "    # Create a cursor to execute SQL queries\n",
    "    cur = conn.cursor()\n",
    "\n",
    "    # Execute SELECT query\n",
    "    cur.execute(\"SELECT * FROM movies;\")\n",
    "\n",
    "    # Fetch all results\n",
    "    rows = cur.fetchall()\n",
    "\n",
    "    # Print the results\n",
    "    for row in rows:\n",
    "        print(row)\n",
    "\n",
    "    # Close the cursor and connection\n",
    "    cur.close()\n",
    "    conn.close()\n",
    "\n",
    "except Exception as e:\n",
    "    print(f\"Error: {e}\")"
   ]
  },
  {
   "cell_type": "code",
   "execution_count": 7,
   "id": "5f556428",
   "metadata": {},
   "outputs": [
    {
     "name": "stdout",
     "output_type": "stream",
     "text": [
      "Requirement already satisfied: psycopg2 in /opt/anaconda3/lib/python3.12/site-packages (2.9.10)\n"
     ]
    }
   ],
   "source": [
    "!pip install psycopg2"
   ]
  },
  {
   "cell_type": "code",
   "execution_count": null,
   "id": "fc7eced6",
   "metadata": {},
   "outputs": [],
   "source": []
  }
 ],
 "metadata": {
  "kernelspec": {
   "display_name": "base",
   "language": "python",
   "name": "python3"
  },
  "language_info": {
   "codemirror_mode": {
    "name": "ipython",
    "version": 3
   },
   "file_extension": ".py",
   "mimetype": "text/x-python",
   "name": "python",
   "nbconvert_exporter": "python",
   "pygments_lexer": "ipython3",
   "version": "3.12.7"
  }
 },
 "nbformat": 4,
 "nbformat_minor": 5
}
